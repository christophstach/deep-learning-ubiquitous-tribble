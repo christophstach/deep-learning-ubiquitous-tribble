{
 "cells": [
  {
   "cell_type": "code",
   "execution_count": 1,
   "metadata": {},
   "outputs": [
    {
     "ename": "ImportError",
     "evalue": "No module named 'graphviz'",
     "traceback": [
      "\u001b[0;31m---------------------------------------------------------------------------\u001b[0m",
      "\u001b[0;31mImportError\u001b[0m                               Traceback (most recent call last)",
      "\u001b[0;32m<ipython-input-1-34a11116d8b9>\u001b[0m in \u001b[0;36m<module>\u001b[0;34m()\u001b[0m\n\u001b[0;32m----> 1\u001b[0;31m \u001b[0;32mfrom\u001b[0m \u001b[0mgraphviz\u001b[0m \u001b[0;32mimport\u001b[0m \u001b[0mDigraph\u001b[0m\u001b[0;34m\u001b[0m\u001b[0m\n\u001b[0m\u001b[1;32m      2\u001b[0m \u001b[0;34m\u001b[0m\u001b[0m\n\u001b[1;32m      3\u001b[0m \u001b[0mdot\u001b[0m \u001b[0;34m=\u001b[0m \u001b[0mDigraph\u001b[0m\u001b[0;34m(\u001b[0m\u001b[0;34m)\u001b[0m\u001b[0;34m\u001b[0m\u001b[0m\n\u001b[1;32m      4\u001b[0m \u001b[0mdot\u001b[0m\u001b[0;34m.\u001b[0m\u001b[0mattr\u001b[0m\u001b[0;34m(\u001b[0m\u001b[0mrankdir\u001b[0m\u001b[0;34m=\u001b[0m\u001b[0;34m'LR'\u001b[0m\u001b[0;34m)\u001b[0m\u001b[0;34m\u001b[0m\u001b[0m\n\u001b[1;32m      5\u001b[0m \u001b[0;34m\u001b[0m\u001b[0m\n",
      "\u001b[0;31mImportError\u001b[0m: No module named 'graphviz'"
     ],
     "output_type": "error"
    }
   ],
   "source": [
    "from graphviz import Digraph\n",
    "\n",
    "dot = Digraph()\n",
    "dot.attr(rankdir='LR')\n",
    "\n",
    "dot.node('INPUT_A', 'a', color='#FFFFFF')\n",
    "dot.node('INPUT_B', 'b', color='#FFFFFF')\n",
    "dot.node('INPUT_C', 'c', color='#FFFFFF')\n",
    "dot.node('INPUT_5', '5', color='#FFFFFF')\n",
    "dot.node('OUTPUT', 'out', color='#FFFFFF')\n",
    "\n",
    "dot.node('A', 'x³')\n",
    "dot.node('B', '*')\n",
    "dot.node('C', '1/x')\n",
    "dot.node('D', '+')\n",
    "dot.node('E', '+')\n",
    "dot.node('F', '1/2x')\n",
    "\n",
    "dot.edge('INPUT_A', 'A', label='1', xlabel='-9/37', fontsize='9')\n",
    "dot.edge('INPUT_B', 'B', label='2', xlabel='3/444', fontsize='9')\n",
    "dot.edge('INPUT_C', 'B', label='3', xlabel='2/1369', fontsize='9')\n",
    "dot.edge('B', 'C', label='6', xlabel='1/444', fontsize='9')\n",
    "dot.edge('A', 'D', label='1', xlabel='-3/37', fontsize='9')\n",
    "dot.edge('C', 'D', label='1/6', xlabel='-3/37', fontsize='9')\n",
    "dot.edge('D', 'E', label='7/6', xlabel='-3/37', fontsize='9')\n",
    "dot.edge('INPUT_5', 'E')\n",
    "dot.edge('E', 'F', label='37/6', xlabel='-3/37', fontsize='9')\n",
    "dot.edge('F', 'OUTPUT', label='37/12', xlabel='1', fontsize='9')\n",
    "\n",
    "dot"
   ]
  },
  {
   "cell_type": "code",
   "execution_count": null,
   "metadata": {},
   "outputs": [],
   "source": []
  }
 ],
 "metadata": {
  "kernelspec": {
   "display_name": "Python 3",
   "language": "python",
   "name": "python3"
  },
  "language_info": {
   "codemirror_mode": {
    "name": "ipython",
    "version": 3
   },
   "file_extension": ".py",
   "mimetype": "text/x-python",
   "name": "python",
   "nbconvert_exporter": "python",
   "pygments_lexer": "ipython3",
   "version": "3.5.2"
  }
 },
 "nbformat": 4,
 "nbformat_minor": 2
}
