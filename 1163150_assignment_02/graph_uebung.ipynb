{
 "cells": [
  {
   "cell_type": "code",
   "execution_count": 1,
   "metadata": {},
   "outputs": [
    {
     "ename": "ModuleNotFoundError",
     "evalue": "No module named 'graphviz'",
     "traceback": [
      "\u001b[0;31m---------------------------------------------------------------------------\u001b[0m",
      "\u001b[0;31mModuleNotFoundError\u001b[0m                       Traceback (most recent call last)",
      "\u001b[0;32m<ipython-input-1-5a2e7e6a88be>\u001b[0m in \u001b[0;36m<module>\u001b[0;34m()\u001b[0m\n\u001b[0;32m----> 1\u001b[0;31m \u001b[0;32mfrom\u001b[0m \u001b[0mgraphviz\u001b[0m \u001b[0;32mimport\u001b[0m \u001b[0mDigraph\u001b[0m\u001b[0;34m\u001b[0m\u001b[0m\n\u001b[0m\u001b[1;32m      2\u001b[0m \u001b[0;34m\u001b[0m\u001b[0m\n\u001b[1;32m      3\u001b[0m \u001b[0mdot\u001b[0m \u001b[0;34m=\u001b[0m \u001b[0mDigraph\u001b[0m\u001b[0;34m(\u001b[0m\u001b[0;34m)\u001b[0m\u001b[0;34m\u001b[0m\u001b[0m\n\u001b[1;32m      4\u001b[0m \u001b[0mdot\u001b[0m\u001b[0;34m.\u001b[0m\u001b[0mattr\u001b[0m\u001b[0;34m(\u001b[0m\u001b[0mrankdir\u001b[0m\u001b[0;34m=\u001b[0m\u001b[0;34m'LR'\u001b[0m\u001b[0;34m)\u001b[0m\u001b[0;34m\u001b[0m\u001b[0m\n\u001b[1;32m      5\u001b[0m \u001b[0;34m\u001b[0m\u001b[0m\n",
      "\u001b[0;31mModuleNotFoundError\u001b[0m: No module named 'graphviz'"
     ],
     "output_type": "error"
    }
   ],
   "source": [
    "from graphviz import Digraph\n",
    "\n",
    "dot = Digraph()\n",
    "dot.attr(rankdir='LR')\n",
    "\n",
    "dot.node('INPUT_A', 'a', color='#FFFFFF')\n",
    "dot.node('INPUT_B', 'b', color='#FFFFFF')\n",
    "dot.node('INPUT_C', 'c', color='#FFFFFF')\n",
    "dot.node('INPUT_5', '5', color='#FFFFFF')\n",
    "dot.node('OUTPUT', 'out', color='#FFFFFF')\n",
    "\n",
    "dot.node('A', 'x³')\n",
    "dot.node('B', '*')\n",
    "dot.node('C', '1/x')\n",
    "dot.node('D', '+')\n",
    "dot.node('E', '+')\n",
    "dot.node('F', '1/2x')\n",
    "\n",
    "dot.edge('INPUT_A', 'A')\n",
    "dot.edge('INPUT_B', 'B')\n",
    "dot.edge('INPUT_C', 'B')\n",
    "dot.edge('B', 'C')\n",
    "dot.edge('A', 'D')\n",
    "dot.edge('C', 'D')\n",
    "dot.edge('D', 'E')\n",
    "dot.edge('INPUT_5', 'E')\n",
    "dot.edge('E', 'F')\n",
    "dot.edge('F', 'OUTPUT')\n",
    "\n",
    "dot"
   ]
  },
  {
   "cell_type": "markdown",
   "metadata": {},
   "source": [
    "# Eingabe\n",
    "\n",
    "* a = 1\n",
    "* b = 2\n",
    "* c = 3"
   ]
  }
 ],
 "metadata": {
  "kernelspec": {
   "display_name": "Python 3",
   "language": "python",
   "name": "python3"
  },
  "language_info": {
   "codemirror_mode": {
    "name": "ipython",
    "version": 3
   },
   "file_extension": ".py",
   "mimetype": "text/x-python",
   "name": "python",
   "nbconvert_exporter": "python",
   "pygments_lexer": "ipython3",
   "version": "3.5.2"
  }
 },
 "nbformat": 4,
 "nbformat_minor": 2
}
