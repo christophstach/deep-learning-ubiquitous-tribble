{
 "cells": [
  {
   "cell_type": "markdown",
   "metadata": {},
   "source": [
    "# ML-Fundamentals - Neural Networks - Exercise: Minimal Fully Connected Network for MNIST"
   ]
  },
  {
   "cell_type": "markdown",
   "metadata": {},
   "source": [
    "## Table of Contents\n",
    "* [Requirements](#Requirements) \n",
    "  * [Modules](#Python-Modules) \n",
    "  * [Data](#Data)\n",
    "* [Simple MNIST Network](#Simple-MNIST-Network)\n",
    "  * [Todo: Transparency](#Todo:-Transparency)\n",
    "  * [Todo: Comprehension](#Todo:-Comprehension)\n",
    "  * [Todo: Step towards a NN-Framework](#Todo:-Step-towards-a-NN-Framework)"
   ]
  },
  {
   "cell_type": "markdown",
   "metadata": {},
   "source": [
    "# Requirements\n"
   ]
  },
  {
   "cell_type": "markdown",
   "metadata": {},
   "source": [
    "## Python-Modules"
   ]
  },
  {
   "cell_type": "code",
   "execution_count": 1,
   "metadata": {},
   "outputs": [],
   "source": [
    "# third party\n",
    "import numpy as np\n",
    "import matplotlib.pyplot as plt\n",
    "\n",
    "# internal\n",
    "from deep_teaching_commons.data.fundamentals.mnist import Mnist"
   ]
  },
  {
   "cell_type": "markdown",
   "metadata": {},
   "source": [
    "## Data"
   ]
  },
  {
   "cell_type": "code",
   "execution_count": 2,
   "metadata": {},
   "outputs": [
    {
     "name": "stdout",
     "output_type": "stream",
     "text": [
      "auto download is active, attempting download\n",
      "mnist data directory already exists, download aborted\n"
     ]
    }
   ],
   "source": [
    "# create mnist loader from deep_teaching_commons\n",
    "mnist_loader = Mnist(data_dir='data')\n",
    "\n",
    "# load all data, labels are one-hot-encoded, images are flatten and pixel squashed between [0,1]\n",
    "train_images, train_labels, test_images, test_labels = mnist_loader.get_all_data(one_hot_enc=True, normalized=True)\n",
    "\n",
    "# shuffle training data\n",
    "shuffle_index = np.random.permutation(60000)\n",
    "train_images, train_labels = train_images[shuffle_index], train_labels[shuffle_index]"
   ]
  },
  {
   "cell_type": "markdown",
   "metadata": {},
   "source": [
    "# Simple MNIST Network\n",
    "The presented network is an adaptation of Michael Nielson's introductory example to neural networks. It is recommended, though not necessary, to read the first two chapters of his great online book ['Neural Networks and Deep Learning'](http://neuralnetworksanddeeplearning.com/) for a better understanding of the given example. Compared to the [original](https://github.com/mnielsen/neural-networks-and-deep-learning/blob/master/src/network.py) by Nielsen, the present variant was vectorized and the sigmoid activation function replaced by a rectified linear unit function (ReLU). As a result, the code is written much more compact, and the optimization of the model is much more efficient. "
   ]
  },
  {
   "cell_type": "markdown",
   "metadata": {},
   "source": [
    "## Todo: Transparency\n",
    "Your goal is to understand how the implementation works. Therefore your tasks are as follows:\n",
    "  - (2) Add comments to functions and lines of code. Follow the [Google-Pyhton](https://google.github.io/styleguide/pyguide.html) guidelines for comments.\n",
    "  - (2) Add a verbose argument (`boolean`) to the functions that adds meaningful `print` lines to the network, if it is `true`.\n",
    "  - (2) Add a variable `delta_hist` which store the delta value calculated on the output layer during each iteration of the function `grads(X,Y,weights)`. After the optimization process plot `delta_hist`."
   ]
  },
  {
   "cell_type": "code",
   "execution_count": 3,
   "metadata": {},
   "outputs": [
    {
     "name": "stdout",
     "output_type": "stream",
     "text": [
      "Epoch: 0 Accuracy: 0.8752 Delta: -0.2639494389725893\n",
      "Epoch: 1 Accuracy: 0.9051 Delta: -0.19944820673124017\n",
      "Epoch: 2 Accuracy: 0.9212 Delta: -0.1709951528609053\n",
      "Epoch: 3 Accuracy: 0.9306 Delta: -0.1532237771822821\n",
      "Epoch: 4 Accuracy: 0.9365 Delta: -0.13959214958327243\n",
      "Epoch: 5 Accuracy: 0.9401 Delta: -0.12765652867188432\n",
      "Epoch: 6 Accuracy: 0.9441 Delta: -0.11836274944243835\n",
      "Epoch: 7 Accuracy: 0.9466 Delta: -0.11102022668023896\n",
      "Epoch: 8 Accuracy: 0.949 Delta: -0.10440898665303024\n",
      "Epoch: 9 Accuracy: 0.9513 Delta: -0.09806598304292838\n",
      "Epoch: 10 Accuracy: 0.9521 Delta: -0.0934052978648552\n",
      "Epoch: 11 Accuracy: 0.9535 Delta: -0.08871183677940357\n",
      "Epoch: 12 Accuracy: 0.9543 Delta: -0.08464529345682542\n",
      "Epoch: 13 Accuracy: 0.956 Delta: -0.08110529791769377\n",
      "Epoch: 14 Accuracy: 0.9571 Delta: -0.07803989366444333\n",
      "Epoch: 15 Accuracy: 0.9583 Delta: -0.07544344839966\n",
      "Epoch: 16 Accuracy: 0.9588 Delta: -0.07314691704043258\n",
      "Epoch: 17 Accuracy: 0.9599 Delta: -0.07101415947792947\n",
      "Epoch: 18 Accuracy: 0.9606 Delta: -0.06942078461525227\n",
      "Epoch: 19 Accuracy: 0.9607 Delta: -0.0675156525470321\n",
      "Epoch: 20 Accuracy: 0.9612 Delta: -0.06579662463805856\n",
      "Epoch: 21 Accuracy: 0.9616 Delta: -0.06402426162733266\n",
      "Epoch: 22 Accuracy: 0.9622 Delta: -0.06243512707653313\n",
      "Epoch: 23 Accuracy: 0.9628 Delta: -0.06101294255867773\n",
      "Epoch: 24 Accuracy: 0.9627 Delta: -0.05921215732636224\n"
     ]
    },
    {
     "data": {
      "text/plain": [
       "(-1, 0)"
      ]
     },
     "execution_count": 3,
     "metadata": {},
     "output_type": "execute_result"
    },
    {
     "data": {
      "image/png": "[encoded data removed]",
      "text/plain": [
       "<Figure size 432x288 with 1 Axes>"
      ]
     },
     "metadata": {},
     "output_type": "display_data"
    }
   ],
   "source": [
    "delta_hist =[]\n",
    "\n",
    "def feed_forward(X, weights):\n",
    "    \"\"\"Preforms the forward pass.\n",
    "    \n",
    "    Retrieves the inputs and the weights.\n",
    "    And does a matrix multiplication\n",
    "    \n",
    "    \n",
    "        Args:\n",
    "            X: A batch of inputs\n",
    "            weights: The weights\n",
    "            \n",
    "        Returns:\n",
    "            A batch of calculated outputs\n",
    "        \n",
    "    \"\"\"\n",
    "    \n",
    "    a = [X]\n",
    "    for w in weights:\n",
    "        a.append(np.maximum(a[-1].dot(w),0))\n",
    "    return a\n",
    "\n",
    "def grads(X, Y, weights):\n",
    "    \"\"\"Calculates the gradiants and preforms the backpropagation\n",
    "    \n",
    "    This function calculates the gradiants and passes the \n",
    "    new weights together with the inputs to forward pass.\n",
    "    \n",
    "        Args:\n",
    "            X: A batch of inputs\n",
    "            Y: A batch of labels\n",
    "            weights: weights to calculate the new gradient\n",
    "        \n",
    "        Returns:\n",
    "            The new gradients\n",
    "\n",
    "    \"\"\"\n",
    "    grads = np.empty_like(weights)\n",
    "    a = feed_forward(X, weights)\n",
    "    # https://brilliant.org/wiki/backpropagation/ or https://stats.stackexchange.com/questions/154879/a-list-of-cost-functions-used-in-neural-networks-alongside-applications\n",
    "    delta = a[-1] - Y\n",
    "\n",
    "    \n",
    "    delta_hist.append(np.sum(delta*Y)/len(X))\n",
    "    grads[-1] = a[-2].T.dot(delta)\n",
    "    for i in range(len(a) - 2, 0, -1):\n",
    "        delta = (a[i] > 0) * delta.dot(weights[i].T)\n",
    "        grads[i - 1] = a[i-1].T.dot(delta)\n",
    "        \n",
    "    return grads / len(X)\n",
    "\n",
    "trX, trY, teX, teY = train_images, train_labels, test_images, test_labels\n",
    "weights = [np.random.randn(*w) * 0.1 for w in [(784, 200), (200,100), (100, 10)]]\n",
    "num_epochs, batch_size, learn_rate = 25, 350, 0.1\n",
    "verbose = True\n",
    "\n",
    "for i in range(num_epochs):\n",
    "    for j in range(0, len(trX), batch_size):\n",
    "        X, Y = trX[j:j+batch_size], trY[j:j+batch_size]\n",
    "        weights -= learn_rate * grads(X, Y, weights)\n",
    "        \n",
    "    prediction_test = np.argmax(feed_forward(teX, weights)[-1], axis=1)\n",
    "    if verbose: \n",
    "        print ('Epoch:', i, 'Accuracy:', np.mean(prediction_test == np.argmax(teY, axis=1)), 'Delta:', delta_hist[-1])\n",
    "    \n",
    "plt.plot(delta_hist)\n",
    "plt.ylim(ymax = 0, ymin= -1)"
   ]
  },
  {
   "cell_type": "markdown",
   "metadata": {},
   "source": [
    "## Todo: Comprehension\n",
    "Hopefully, this implementation of a neural network is clear now. As a check answer the following questions (a few sentences, no novels):\n",
    "  - (2) Which cost function is used, what is its derivation and how is it implemented?\n",
    "      - The softmax loss function is used.\n",
    "  - (2) Why are the boundaries of your plot between [-1,0], why it is so noisy, how do you can reduce the noice and what is the difference to a usual plot of a loss function?\n",
    "      - To reduce the noise I chose a bigger batch size. Usually the loss is positive, so the whole plot wouln't be in between -1 and 0.\n",
    "  - (2) How does the network implement the backpropagation algorithm?"
   ]
  },
  {
   "cell_type": "markdown",
   "metadata": {},
   "source": [
    "## Todo: Step towards a NN-Framework\n",
    "The presented implementation is compact and efficient, but hard to modify or extend. However, a modular design is crucial if you want to experiment with a neural network to understand the influence of its components. Now you make the first changes towards your own 'toy-neural-network-framework', which you should expand in the progress of exercise 03. \n",
    "\n",
    "(5) Rework the implementation from above given the classes and methods below. Again, you _do not_ have to re-engineer the whole neural network at this step. Rework the code to match the given specification and do necessary modifications only. For your understanding, you can change the names of the variables to more fitting ones."
   ]
  },
  {
   "cell_type": "code",
   "execution_count": 4,
   "metadata": {},
   "outputs": [
    {
     "name": "stdout",
     "output_type": "stream",
     "text": [
      "Epoch: 0 Accuracy: 0.865 Delta: -0.2951198157912908\n",
      "Epoch: 1 Accuracy: 0.8982 Delta: -0.23483484027987414\n",
      "Epoch: 2 Accuracy: 0.9126 Delta: -0.20671231735854026\n",
      "Epoch: 3 Accuracy: 0.9227 Delta: -0.188959372904927\n",
      "Epoch: 4 Accuracy: 0.9296 Delta: -0.17500675938275975\n",
      "Epoch: 5 Accuracy: 0.9344 Delta: -0.16432724397167697\n",
      "Epoch: 6 Accuracy: 0.9379 Delta: -0.1553769933047667\n",
      "Epoch: 7 Accuracy: 0.9404 Delta: -0.14812639865330854\n",
      "Epoch: 8 Accuracy: 0.9427 Delta: -0.14231849312631506\n",
      "Epoch: 9 Accuracy: 0.945 Delta: -0.13750185244002777\n",
      "Epoch: 10 Accuracy: 0.9471 Delta: -0.13293571399768672\n",
      "Epoch: 11 Accuracy: 0.9482 Delta: -0.12922412650532494\n",
      "Epoch: 12 Accuracy: 0.9495 Delta: -0.12556443195807457\n",
      "Epoch: 13 Accuracy: 0.9514 Delta: -0.12229277308801655\n",
      "Epoch: 14 Accuracy: 0.9524 Delta: -0.1191501424607575\n",
      "Epoch: 15 Accuracy: 0.9537 Delta: -0.11609253450759006\n",
      "Epoch: 16 Accuracy: 0.9542 Delta: -0.11362088447653795\n",
      "Epoch: 17 Accuracy: 0.9548 Delta: -0.11074488484940513\n",
      "Epoch: 18 Accuracy: 0.9555 Delta: -0.1081903950700146\n",
      "Epoch: 19 Accuracy: 0.9563 Delta: -0.10561356448968456\n",
      "Epoch: 20 Accuracy: 0.9566 Delta: -0.10332086256987671\n",
      "Epoch: 21 Accuracy: 0.9575 Delta: -0.10104784311110238\n",
      "Epoch: 22 Accuracy: 0.9583 Delta: -0.09892180153288548\n",
      "Epoch: 23 Accuracy: 0.9587 Delta: -0.09689637119618891\n",
      "Epoch: 24 Accuracy: 0.9591 Delta: -0.09483129338483853\n"
     ]
    },
    {
     "data": {
      "text/plain": [
       "[<matplotlib.lines.Line2D at 0x7f22d55b8c18>]"
      ]
     },
     "execution_count": 4,
     "metadata": {},
     "output_type": "execute_result"
    },
    {
     "data": {
      "image/png": "[encoded data removed]",
      "text/plain": [
       "<Figure size 432x288 with 1 Axes>"
      ]
     },
     "metadata": {},
     "output_type": "display_data"
    }
   ],
   "source": [
    "class FullyConnectedNetwork:\n",
    "    def __init__(self, layers):\n",
    "        self.layers = layers\n",
    "        self.weights = [np.random.randn(*weight) * 0.1 for weight in self.layers]\n",
    "        self.delta_hist = []\n",
    "        \n",
    "    def forward(self, data):\n",
    "        a = [data]\n",
    "        for weight in self.weights:\n",
    "            a.append(np.maximum(a[-1].dot(weight), 0))\n",
    "            \n",
    "        return a\n",
    "\n",
    "    def backward(self, X, Y):\n",
    "        grads = np.empty_like(self.weights)\n",
    "        a = self.forward(X)\n",
    "        delta = a[-1] - Y\n",
    "\n",
    "        self.delta_hist.append(np.sum(delta * Y) / len(X))\n",
    "        grads[-1] = a[-2].T.dot(delta)\n",
    "        \n",
    "        for i in range(len(a) - 2, 0, -1):\n",
    "            delta = (a[i] > 0) * delta.dot(self.weights[i].T)\n",
    "            grads[i - 1] = a[i - 1].T.dot(delta)\n",
    "\n",
    "        return grads / len(X)\n",
    "\n",
    "\n",
    "    def predict(self, data):\n",
    "        return self.forward(data)\n",
    "            \n",
    "class Optimizer:\n",
    "    def __init__(self, network, train_data, train_labels, test_data=None, test_labels=None, epochs=100, batch_size=20, learning_rate=0.01):\n",
    "        self.network = network\n",
    "        self.train_data = train_data\n",
    "        self.train_labels = train_labels\n",
    "        self.test_data = test_data\n",
    "        self.test_labels = test_labels\n",
    "        self.epochs = epochs\n",
    "        self.batch_size = batch_size\n",
    "        self.learning_rate = learning_rate\n",
    "        \n",
    "    def sgd(self, verbose = True):        \n",
    "        for i in range(self.epochs):\n",
    "            for j in range(0, len(self.train_data), self.batch_size):\n",
    "                X, Y = self.train_data[j:j + self.batch_size], self.train_labels[j:j + self.batch_size]\n",
    "                self.network.weights -= self.learning_rate * self.network.backward(X, Y)\n",
    "\n",
    "            prediction_test = np.argmax(self.network.predict(self.test_data)[-1], axis=1)\n",
    "            if verbose: \n",
    "                print ('Epoch:', i, 'Accuracy:', np.mean(prediction_test == np.argmax(self.test_labels, axis=1)), 'Delta:', self.network.delta_hist[-1])\n",
    "    \n",
    "    \n",
    "\n",
    "    \n",
    "# Following code should run:    \n",
    "mnist_NN = FullyConnectedNetwork([(784, 200),(200,100),(100, 10)]) \n",
    "epochs, batch_size, learning_rate = 25, 500, 0.1\n",
    "Optimizer(mnist_NN, train_images, train_labels, test_images, test_labels, epochs, batch_size, learning_rate).sgd(True)\n",
    "\n",
    "plt.plot(mnist_NN.delta_hist)"
   ]
  },
  {
   "cell_type": "code",
   "execution_count": null,
   "metadata": {},
   "outputs": [],
   "source": []
  }
 ],
 "metadata": {
  "kernelspec": {
   "display_name": "Python 3",
   "language": "python",
   "name": "python3"
  },
  "language_info": {
   "codemirror_mode": {
    "name": "ipython",
    "version": 3
   },
   "file_extension": ".py",
   "mimetype": "text/x-python",
   "name": "python",
   "nbconvert_exporter": "python",
   "pygments_lexer": "ipython3",
   "version": "3.6.5"
  }
 },
 "nbformat": 4,
 "nbformat_minor": 2
}
