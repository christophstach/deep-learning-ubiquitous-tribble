{
 "cells": [
  {
   "cell_type": "markdown",
   "metadata": {},
   "source": [
    "# ML-Fundamentals - Neural Networks - Exercise: Minimal Fully Connected Network for MNIST"
   ]
  },
  {
   "cell_type": "markdown",
   "metadata": {},
   "source": [
    "## Table of Contents\n",
    "* [Requirements](#Requirements) \n",
    "  * [Modules](#Python-Modules) \n",
    "  * [Data](#Data)\n",
    "* [Simple MNIST Network](#Simple-MNIST-Network)\n",
    "  * [Todo: Transparency](#Todo:-Transparency)\n",
    "  * [Todo: Comprehension](#Todo:-Comprehension)\n",
    "  * [Todo: Step towards a NN-Framework](#Todo:-Step-towards-a-NN-Framework)"
   ]
  },
  {
   "cell_type": "markdown",
   "metadata": {},
   "source": [
    "# Requirements\n"
   ]
  },
  {
   "cell_type": "markdown",
   "metadata": {},
   "source": [
    "## Python-Modules"
   ]
  },
  {
   "cell_type": "code",
   "execution_count": 1,
   "metadata": {},
   "outputs": [],
   "source": [
    "# third party\n",
    "import numpy as np\n",
    "import matplotlib.pyplot as plt\n",
    "\n",
    "# internal\n",
    "from deep_teaching_commons.data.fundamentals.mnist import Mnist"
   ]
  },
  {
   "cell_type": "markdown",
   "metadata": {},
   "source": [
    "## Data"
   ]
  },
  {
   "cell_type": "code",
   "execution_count": 2,
   "metadata": {},
   "outputs": [
    {
     "name": "stdout",
     "output_type": "stream",
     "text": [
      "auto download is active, attempting download\n",
      "mnist data directory already exists, download aborted\n"
     ]
    }
   ],
   "source": [
    "# create mnist loader from deep_teaching_commons\n",
    "mnist_loader = Mnist(data_dir='data')\n",
    "\n",
    "# load all data, labels are one-hot-encoded, images are flatten and pixel squashed between [0,1]\n",
    "train_images, train_labels, test_images, test_labels = mnist_loader.get_all_data(one_hot_enc=True, normalized=True)\n",
    "\n",
    "# shuffle training data\n",
    "shuffle_index = np.random.permutation(60000)\n",
    "train_images, train_labels = train_images[shuffle_index], train_labels[shuffle_index]"
   ]
  },
  {
   "cell_type": "markdown",
   "metadata": {},
   "source": [
    "# Simple MNIST Network\n",
    "The presented network is an adaptation of Michael Nielson's introductory example to neural networks. It is recommended, though not necessary, to read the first two chapters of his great online book ['Neural Networks and Deep Learning'](http://neuralnetworksanddeeplearning.com/) for a better understanding of the given example. Compared to the [original](https://github.com/mnielsen/neural-networks-and-deep-learning/blob/master/src/network.py) by Nielsen, the present variant was vectorized and the sigmoid activation function replaced by a rectified linear unit function (ReLU). As a result, the code is written much more compact, and the optimization of the model is much more efficient. "
   ]
  },
  {
   "cell_type": "markdown",
   "metadata": {},
   "source": [
    "## Todo: Transparency\n",
    "Your goal is to understand how the implementation works. Therefore your tasks are as follows:\n",
    "  - (2) Add comments to functions and lines of code. Follow the [Google-Pyhton](https://google.github.io/styleguide/pyguide.html) guidelines for comments.\n",
    "  - (2) Add a verbose argument (`boolean`) to the functions that adds meaningful `print` lines to the network, if it is `true`.\n",
    "  - (2) Add a variable `delta_hist` which store the delta value calculated on the output layer during each iteration of the function `grads(X,Y,weights)`. After the optimization process plot `delta_hist`."
   ]
  },
  {
   "cell_type": "code",
   "execution_count": 13,
   "metadata": {},
   "outputs": [
    {
     "name": "stdout",
     "output_type": "stream",
     "text": [
      "Epoch: 0 Accuracy: 0.9451\n",
      "Epoch: 1 Accuracy: 0.9581\n",
      "Epoch: 2 Accuracy: 0.9625\n",
      "Epoch: 3 Accuracy: 0.965\n",
      "Epoch: 4 Accuracy: 0.9687\n",
      "Epoch: 5 Accuracy: 0.9698\n",
      "Epoch: 6 Accuracy: 0.9709\n",
      "Epoch: 7 Accuracy: 0.972\n",
      "Epoch: 8 Accuracy: 0.9728\n",
      "Epoch: 9 Accuracy: 0.9734\n",
      "Epoch: 10 Accuracy: 0.9738\n",
      "Epoch: 11 Accuracy: 0.9746\n",
      "Epoch: 12 Accuracy: 0.9759\n",
      "Epoch: 13 Accuracy: 0.9761\n",
      "Epoch: 14 Accuracy: 0.9764\n",
      "Epoch: 15 Accuracy: 0.9763\n",
      "Epoch: 16 Accuracy: 0.9765\n",
      "Epoch: 17 Accuracy: 0.9765\n",
      "Epoch: 18 Accuracy: 0.9762\n",
      "Epoch: 19 Accuracy: 0.9768\n",
      "Epoch: 20 Accuracy: 0.9768\n",
      "Epoch: 21 Accuracy: 0.9768\n",
      "Epoch: 22 Accuracy: 0.9776\n",
      "Epoch: 23 Accuracy: 0.9779\n",
      "Epoch: 24 Accuracy: 0.9782\n"
     ]
    },
    {
     "data": {
      "text/plain": [
       "(-0.9063529186074328, 0)"
      ]
     },
     "execution_count": 13,
     "metadata": {},
     "output_type": "execute_result"
    },
    {
     "data": {
      "image/png": "[encoded data removed]",
      "text/plain": [
       "<Figure size 432x288 with 1 Axes>"
      ]
     },
     "metadata": {},
     "output_type": "display_data"
    }
   ],
   "source": [
    "delta_hist =[]\n",
    "\n",
    "def feed_forward(X, weights):\n",
    "    \"\"\"Preforms the forward pass.\n",
    "    \n",
    "    Retrieves the inputs and the weights.\n",
    "    And does a matrix multiplication\n",
    "    \n",
    "    \n",
    "        Args:\n",
    "            X: A batch of inputs\n",
    "            weights: The weights\n",
    "            \n",
    "        Returns:\n",
    "            A batch of calculated outputs\n",
    "        \n",
    "    \"\"\"\n",
    "    \n",
    "    a = [X]\n",
    "    for w in weights:\n",
    "        a.append(np.maximum(a[-1].dot(w),0))\n",
    "    return a\n",
    "\n",
    "def grads(X, Y, weights, verbose = False):\n",
    "    \"\"\"Calculates the gradiants and preforms the backpropagation\n",
    "    \n",
    "    This function calculates the gradiants and passes the \n",
    "    new weights together with the inputs to forward pass.\n",
    "    \n",
    "        Args:\n",
    "            X: A batch of inputs\n",
    "            Y: A batch of labels\n",
    "            weights: weights to calculate the new gradient\n",
    "            vorbose: prints the loss in each iteration\n",
    "        \n",
    "        Returns:\n",
    "            The new gradients\n",
    "\n",
    "    \"\"\"\n",
    "    grads = np.empty_like(weights)\n",
    "    a = feed_forward(X, weights)\n",
    "    # https://brilliant.org/wiki/backpropagation/ or https://stats.stackexchange.com/questions/154879/a-list-of-cost-functions-used-in-neural-networks-alongside-applications\n",
    "    delta = a[-1] - Y\n",
    "    \n",
    "    if verbose:\n",
    "        print(\"Loss:\", np.sum(delta*Y)/len(X))\n",
    "    \n",
    "    delta_hist.append(np.sum(delta*Y)/len(X))\n",
    "    grads[-1] = a[-2].T.dot(delta)\n",
    "    for i in range(len(a)-2, 0, -1):\n",
    "        delta = (a[i] > 0) * delta.dot(weights[i].T)\n",
    "        grads[i-1] = a[i-1].T.dot(delta)\n",
    "        \n",
    "    return grads / len(X)\n",
    "\n",
    "trX, trY, teX, teY = train_images, train_labels, test_images, test_labels\n",
    "weights = [np.random.randn(*w) * 0.1 for w in [(784, 200), (200,100), (100, 10)]]\n",
    "num_epochs, batch_size, learn_rate = 25, 50, 0.1\n",
    "\n",
    "for i in range(num_epochs):\n",
    "    for j in range(0, len(trX), batch_size):\n",
    "        X, Y = trX[j:j+batch_size], trY[j:j+batch_size]\n",
    "        weights -= learn_rate * grads(X, Y, weights)\n",
    "        once = False\n",
    "        \n",
    "    prediction_test = np.argmax(feed_forward(teX, weights)[-1], axis=1)\n",
    "    print ('Epoch:', i, 'Accuracy:', np.mean(prediction_test == np.argmax(teY, axis=1)))\n",
    "    \n",
    "plt.plot(delta_hist)\n",
    "plt.ylim(ymax = 0, ymin= -1)"
   ]
  },
  {
   "cell_type": "markdown",
   "metadata": {},
   "source": [
    "## Todo: Comprehension\n",
    "Hopefully, this implementation of a neural network is clear now. As a check answer the following questions (a few sentences, no novels):\n",
    "  - (2) Which cost function is used, what is its derivation and how is it implemented?\n",
    "  - (2) Why are the boundaries of your plot between [-1,0], why it is so noisy, how do you can reduce the noice and what is the difference to a usual plot of a loss function?\n",
    "      - Usually the loss is positive, so the whole plot wouln't be in between -1 and 0.\n",
    "  - (2) How does the network implement the backpropagation algorithm?"
   ]
  },
  {
   "cell_type": "markdown",
   "metadata": {},
   "source": [
    "## Todo: Step towards a NN-Framework\n",
    "The presented implementation is compact and efficient, but hard to modify or extend. However, a modular design is crucial if you want to experiment with a neural network to understand the influence of its components. Now you make the first changes towards your own 'toy-neural-network-framework', which you should expand in the progress of exercise 03. \n",
    "\n",
    "(5) Rework the implementation from above given the classes and methods below. Again, you _do not_ have to re-engineer the whole neural network at this step. Rework the code to match the given specification and do necessary modifications only. For your understanding, you can change the names of the variables to more fitting ones."
   ]
  },
  {
   "cell_type": "code",
   "execution_count": 4,
   "metadata": {},
   "outputs": [
    {
     "ename": "NotImplementedError",
     "evalue": "This is your duty",
     "output_type": "error",
     "traceback": [
      "\u001b[0;31m---------------------------------------------------------------------------\u001b[0m",
      "\u001b[0;31mNotImplementedError\u001b[0m                       Traceback (most recent call last)",
      "\u001b[0;32m<ipython-input-4-33d5f89e122f>\u001b[0m in \u001b[0;36m<module>\u001b[0;34m()\u001b[0m\n\u001b[1;32m     21\u001b[0m \u001b[0;34m\u001b[0m\u001b[0m\n\u001b[1;32m     22\u001b[0m \u001b[0;31m# Following code should run:\u001b[0m\u001b[0;34m\u001b[0m\u001b[0;34m\u001b[0m\u001b[0m\n\u001b[0;32m---> 23\u001b[0;31m \u001b[0mmnist_NN\u001b[0m \u001b[0;34m=\u001b[0m \u001b[0mFullyConnectedNetwork\u001b[0m\u001b[0;34m(\u001b[0m\u001b[0;34m[\u001b[0m\u001b[0;34m(\u001b[0m\u001b[0;36m784\u001b[0m\u001b[0;34m,\u001b[0m \u001b[0;36m200\u001b[0m\u001b[0;34m)\u001b[0m\u001b[0;34m,\u001b[0m\u001b[0;34m(\u001b[0m\u001b[0;36m200\u001b[0m\u001b[0;34m,\u001b[0m\u001b[0;36m100\u001b[0m\u001b[0;34m)\u001b[0m\u001b[0;34m,\u001b[0m\u001b[0;34m(\u001b[0m\u001b[0;36m100\u001b[0m\u001b[0;34m,\u001b[0m \u001b[0;36m10\u001b[0m\u001b[0;34m)\u001b[0m\u001b[0;34m]\u001b[0m\u001b[0;34m)\u001b[0m\u001b[0;34m\u001b[0m\u001b[0m\n\u001b[0m\u001b[1;32m     24\u001b[0m \u001b[0mepochs\u001b[0m\u001b[0;34m,\u001b[0m \u001b[0mbatch_size\u001b[0m\u001b[0;34m,\u001b[0m \u001b[0mlearning_rate\u001b[0m \u001b[0;34m=\u001b[0m \u001b[0;36m20\u001b[0m\u001b[0;34m,\u001b[0m \u001b[0;36m500\u001b[0m\u001b[0;34m,\u001b[0m \u001b[0;36m0.1\u001b[0m\u001b[0;34m\u001b[0m\u001b[0m\n\u001b[1;32m     25\u001b[0m \u001b[0mOptimizer\u001b[0m\u001b[0;34m(\u001b[0m\u001b[0mmnist_NN\u001b[0m\u001b[0;34m,\u001b[0m \u001b[0mtrain_images\u001b[0m\u001b[0;34m,\u001b[0m \u001b[0mtrain_labels\u001b[0m\u001b[0;34m,\u001b[0m \u001b[0mtest_images\u001b[0m\u001b[0;34m,\u001b[0m \u001b[0mtest_labels\u001b[0m\u001b[0;34m,\u001b[0m \u001b[0mepochs\u001b[0m\u001b[0;34m,\u001b[0m \u001b[0mbatch_size\u001b[0m\u001b[0;34m,\u001b[0m \u001b[0mlearning_rate\u001b[0m\u001b[0;34m)\u001b[0m\u001b[0;34m\u001b[0m\u001b[0m\n",
      "\u001b[0;32m<ipython-input-4-33d5f89e122f>\u001b[0m in \u001b[0;36m__init__\u001b[0;34m(self, layers)\u001b[0m\n\u001b[1;32m      1\u001b[0m \u001b[0;32mclass\u001b[0m \u001b[0mFullyConnectedNetwork\u001b[0m\u001b[0;34m:\u001b[0m\u001b[0;34m\u001b[0m\u001b[0m\n\u001b[1;32m      2\u001b[0m     \u001b[0;32mdef\u001b[0m \u001b[0m__init__\u001b[0m\u001b[0;34m(\u001b[0m\u001b[0mself\u001b[0m\u001b[0;34m,\u001b[0m \u001b[0mlayers\u001b[0m\u001b[0;34m)\u001b[0m\u001b[0;34m:\u001b[0m\u001b[0;34m\u001b[0m\u001b[0m\n\u001b[0;32m----> 3\u001b[0;31m         \u001b[0;32mraise\u001b[0m \u001b[0mNotImplementedError\u001b[0m\u001b[0;34m(\u001b[0m\u001b[0;34m\"This is your duty\"\u001b[0m\u001b[0;34m)\u001b[0m\u001b[0;34m\u001b[0m\u001b[0m\n\u001b[0m\u001b[1;32m      4\u001b[0m \u001b[0;34m\u001b[0m\u001b[0m\n\u001b[1;32m      5\u001b[0m     \u001b[0;32mdef\u001b[0m \u001b[0mforward\u001b[0m\u001b[0;34m(\u001b[0m\u001b[0mself\u001b[0m\u001b[0;34m,\u001b[0m \u001b[0mdata\u001b[0m\u001b[0;34m)\u001b[0m\u001b[0;34m:\u001b[0m\u001b[0;34m\u001b[0m\u001b[0m\n",
      "\u001b[0;31mNotImplementedError\u001b[0m: This is your duty"
     ]
    }
   ],
   "source": [
    "class FullyConnectedNetwork:\n",
    "    def __init__(self, layers):\n",
    "        pass\n",
    "        \n",
    "    def forward(self, data):\n",
    "        a = [X]\n",
    "        for w in weights:\n",
    "            a.append(np.maximum(a[-1].dot(w),0))\n",
    "        return a\n",
    "\n",
    "    def backward(self, X, Y):\n",
    "        grads = np.empty_like(weights)\n",
    "        a = feed_forward(X, weights)\n",
    "        delta = a[-1] - Y\n",
    "\n",
    "        if verbose:\n",
    "            print(\"Loss:\", np.sum(delta*Y)/len(X))\n",
    "\n",
    "        delta_hist.append(np.sum(delta*Y)/len(X))\n",
    "        grads[-1] = a[-2].T.dot(delta)\n",
    "        for i in range(len(a)-2, 0, -1):\n",
    "            delta = (a[i] > 0) * delta.dot(weights[i].T)\n",
    "            grads[i-1] = a[i-1].T.dot(delta)\n",
    "\n",
    "        return grads / len(X)\n",
    "\n",
    "\n",
    "    def predict(self, data):\n",
    "        return None\n",
    "            \n",
    "class Optimizer:\n",
    "    def __init__(self, network, train_data, train_labels, test_data=None, test_labels=None, epochs=100, batch_size=20, learning_rate=0.01):\n",
    "        raise NotImplementedError(\"This is your duty\")\n",
    "        \n",
    "    def sgd(self):\n",
    "        return None\n",
    "\n",
    "    \n",
    "# Following code should run:    \n",
    "mnist_NN = FullyConnectedNetwork([(784, 200),(200,100),(100, 10)]) \n",
    "epochs, batch_size, learning_rate = 20, 500, 0.1\n",
    "Optimizer(mnist_NN, train_images, train_labels, test_images, test_labels, epochs, batch_size, learning_rate)\n",
    "plt.plot(mnist_NN.delta_hist)"
   ]
  },
  {
   "cell_type": "code",
   "execution_count": null,
   "metadata": {},
   "outputs": [],
   "source": []
  }
 ],
 "metadata": {
  "kernelspec": {
   "display_name": "Python 3",
   "language": "python",
   "name": "python3"
  },
  "language_info": {
   "codemirror_mode": {
    "name": "ipython",
    "version": 3
   },
   "file_extension": ".py",
   "mimetype": "text/x-python",
   "name": "python",
   "nbconvert_exporter": "python",
   "pygments_lexer": "ipython3",
   "version": "3.6.5"
  }
 },
 "nbformat": 4,
 "nbformat_minor": 2
}
