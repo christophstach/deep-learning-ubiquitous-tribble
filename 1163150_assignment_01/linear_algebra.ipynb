{
 "cells": [
  {
   "cell_type": "markdown",
   "metadata": {},
   "source": [
    "# Übung Lineare Algebra (10 Punkte)\n",
    "\n",
    "Diese kleine Übung soll die Implementierung von grundlegenden arithmetischen Opertationen auf Vektoren und Matrizen wiederholen. \n",
    "\n",
    "Bitte implementieren Sie die notwendigen Methoden in der Datei **ak1163051/lineare_algebra.py** auf Basis des Datentyps **Liste** und verifizieren Sie ihre eigene Implementierungen mit der entsprechenden Operation aus dem Numpy-Modul in diesem Notebook, falls möglich. Ein Beispiel ist mit Addition und Subtraktion der Vektoren $\\vec{a}$ und $\\vec{b}$ gegeben.\n"
   ]
  },
  {
   "cell_type": "code",
   "execution_count": 1,
   "metadata": {},
   "outputs": [
    {
     "name": "stdout",
     "output_type": "stream",
     "text": [
      "Vektor a:  [63, 200, 131, 195, 57, 69, 29, 248, 210, 58]\n",
      "Vektor b:  [166, 214, 226, 117, 5, 9, 56, 61, 94, 75]\n"
     ]
    }
   ],
   "source": [
    "# Initialization of basic modules and global parameters... \n",
    "from lineare_algebra import * \n",
    "import numpy as np\n",
    "import random\n",
    "\n",
    "# create vectors a and b with 10 digits between 0-255\n",
    "vec_a = random.sample(range(255), 10)\n",
    "vec_b = random.sample(range(255), 10)\n",
    "\n",
    "print (\"Vektor a: \", vec_a)\n",
    "print (\"Vektor b: \", vec_b)"
   ]
  },
  {
   "cell_type": "markdown",
   "metadata": {},
   "source": [
    "## Addition und Subtraktion von Vektoren\n",
    "\n",
    "Berechnen Sie Betrag und Differenz von Vektoren nach folgendem Prinzip:\n",
    "\n",
    "$$\n",
    "\\begin{equation}\n",
    "    \\vec{a} + \\vec{b} \n",
    "    = \n",
    "    \\begin{pmatrix}\n",
    "    a_1\\\\ \n",
    "    a_2\\\\ \n",
    "    a_3\n",
    "    \\end{pmatrix} \n",
    "    +\n",
    "    \\begin{pmatrix}\n",
    "    b_1\\\\ \n",
    "    b_2\\\\ \n",
    "    b_3\n",
    "    \\end{pmatrix}\n",
    "    =\n",
    "    \\begin{pmatrix}\n",
    "    a_1 + b_1\\\\ \n",
    "    a_2 + b_2\\\\ \n",
    "    a_3 + b_3\n",
    "    \\end{pmatrix}\n",
    "\\end{equation}\n",
    "$$\n",
    "$$\n",
    "\\begin{equation}\n",
    "    \\vec{a} - \\vec{b} \n",
    "    = \n",
    "    \\begin{pmatrix}\n",
    "    a_1\\\\ \n",
    "    a_2\\\\ \n",
    "    a_3\n",
    "    \\end{pmatrix} \n",
    "    -\n",
    "    \\begin{pmatrix}\n",
    "    b_1\\\\ \n",
    "    b_2\\\\ \n",
    "    b_3\n",
    "    \\end{pmatrix}\n",
    "    =\n",
    "    \\begin{pmatrix}\n",
    "    a_1 - b_1\\\\ \n",
    "    a_2 - b_2\\\\ \n",
    "    a_3 - b_3\n",
    "    \\end{pmatrix}\n",
    "\\end{equation}\n",
    "$$\n"
   ]
  },
  {
   "cell_type": "code",
   "execution_count": 2,
   "metadata": {},
   "outputs": [
    {
     "name": "stdout",
     "output_type": "stream",
     "text": [
      "Result of vector addition: [229, 414, 357, 312, 62, 78, 85, 309, 304, 133]\n",
      "Are the operations arithmetically equal? True\n",
      "Result of vector subtraction: [-103, -14, -95, 78, 52, 60, -27, 187, 116, -17]\n",
      "Are the operations arithmetically equal? True\n"
     ]
    }
   ],
   "source": [
    "# Addition\n",
    "add_result = vector_add(vec_a,vec_b)\n",
    "print (\"Result of vector addition:\", add_result)\n",
    "print (\"Are the operations arithmetically equal?\", np.array_equal(add_result, np.add(vec_a,vec_b)))\n",
    "\n",
    "# Subtraction - please implement the methode in lineare_algebra.py \n",
    "sub_result = vector_sub(vec_a,vec_b)\n",
    "print (\"Result of vector subtraction:\", sub_result)\n",
    "print (\"Are the operations arithmetically equal?\", np.array_equal(sub_result, np.subtract(vec_a,vec_b)))"
   ]
  },
  {
   "cell_type": "markdown",
   "metadata": {},
   "source": [
    "## Multiplikation von Vektoren mit einem Skalar (0,5 Punkt)\n",
    "\n",
    "Berechenen Sie die Multiplikation von einem Skalar und einem Vektoren nach folgendem Prinzip:\n",
    "\n",
    "$$\n",
    "\\begin{equation}\n",
    "    r * \\vec{a}\n",
    "    = \n",
    "    r\n",
    "    \\begin{pmatrix}\n",
    "    a_1\\\\ \n",
    "    a_2\\\\ \n",
    "    a_3\n",
    "    \\end{pmatrix} \n",
    "    =\n",
    "    \\begin{pmatrix}\n",
    "    ra_1\\\\ \n",
    "    ra_2\\\\ \n",
    "    ra_3\n",
    "    \\end{pmatrix}\n",
    "\\end{equation}\n",
    "$$"
   ]
  },
  {
   "cell_type": "code",
   "execution_count": 3,
   "metadata": {},
   "outputs": [
    {
     "name": "stdout",
     "output_type": "stream",
     "text": [
      "Vector Scalar Mult [315, 1000, 655, 975, 285, 345, 145, 1240, 1050, 290]\n"
     ]
    }
   ],
   "source": [
    "# your code\n",
    "r = 5\n",
    "\n",
    "print(\"Vector Scalar Mult\", vector_scalar_mul(r, vec_a))    \n",
    "    "
   ]
  },
  {
   "cell_type": "markdown",
   "metadata": {},
   "source": [
    "## Skalarprodukt (dot product) von Vektoren (1 Punkte)\n",
    "\n",
    "Berechnen Sie das Skalarprodukt von zwei Vektoren nach folgendem Prinzip:\n",
    "\n",
    "$$\n",
    "\\begin{equation}\n",
    "    \\vec{a} * \\vec{b} \n",
    "    = \n",
    "    \\begin{pmatrix}\n",
    "    a_1\\\\ \n",
    "    a_2\\\\ \n",
    "    a_3\n",
    "    \\end{pmatrix} \n",
    "    *\n",
    "    \\begin{pmatrix}\n",
    "    b_1\\\\ \n",
    "    b_2\\\\ \n",
    "    b_3\n",
    "    \\end{pmatrix}\n",
    "    =\n",
    "    a_1 * b_1 + a_2 * b_2 + a_3 * b_3\n",
    "\\end{equation}\n",
    "$$"
   ]
  },
  {
   "cell_type": "code",
   "execution_count": 4,
   "metadata": {},
   "outputs": [
    {
     "name": "stdout",
     "output_type": "stream",
     "text": [
      "Skalar produkt,  147427\n"
     ]
    }
   ],
   "source": [
    "# your code (numpy: https://docs.scipy.org/doc/numpy/reference/generated/numpy.dot.html)\n",
    "print(\"Skalar produkt, \", vector_dot(vec_a, vec_b))"
   ]
  },
  {
   "cell_type": "markdown",
   "metadata": {},
   "source": [
    "## Erzeugen einer Matrize (1 Punkte)\n",
    "\n",
    "Erzeugen Sie mit Hilfe einer Methode eine Matrize mit der Dimension 10x10 von Zufallswerten zwischen 0 und 255."
   ]
  },
  {
   "cell_type": "code",
   "execution_count": 5,
   "metadata": {},
   "outputs": [
    {
     "name": "stdout",
     "output_type": "stream",
     "text": [
      "Matrix A:  [[178, 182, 74, 195, 233, 210, 229, 42, 35, 40], [57, 81, 147, 98, 105, 24, 2, 16, 8, 58], [255, 82, 94, 9, 213, 70, 224, 89, 118, 2], [40, 16, 16, 221, 130, 194, 198, 186, 161, 147], [237, 220, 69, 1, 217, 76, 219, 157, 90, 112], [101, 227, 47, 210, 128, 158, 201, 35, 65, 254], [122, 196, 104, 0, 4, 240, 176, 85, 121, 3], [145, 214, 42, 223, 9, 250, 219, 33, 255, 65], [12, 33, 25, 175, 37, 83, 212, 9, 55, 192], [219, 235, 37, 227, 108, 198, 130, 201, 30, 170]]\n"
     ]
    }
   ],
   "source": [
    "mat_a = create_random_matrix(10,10)\n",
    "print (\"Matrix A: \", mat_a)"
   ]
  },
  {
   "cell_type": "markdown",
   "metadata": {},
   "source": [
    "## Vektor-Matrix-Multiplikation (1 Punkte)\n",
    "\n",
    "Berechnen Sie das Produkt aus Vektor a und Matrix A nach folgendem Prinzip:\n",
    "$$\n",
    "    \\begin{equation}\n",
    "    A*\\vec{x} \n",
    "    = \n",
    "    \\begin{pmatrix}\n",
    "    a_{11}  &\\cdots & a_{1n} \\\\ \n",
    "    \\vdots & \\ddots & \\vdots \\\\ \n",
    "    a_{m1} & \\cdots & a_{mn}\n",
    "    \\end{pmatrix}\n",
    "    *\n",
    "    \\begin{pmatrix}\n",
    "    x_{1} \\\\ \n",
    "    \\vdots \\\\ \n",
    "    x_{n} \n",
    "    \\end{pmatrix}\n",
    "    =\n",
    "    \\begin{pmatrix}\n",
    "    a_{11}x_1  &\\cdots & a_{1n}x_n \\\\ \n",
    "     & \\vdots &  \\\\ \n",
    "    a_{m1}x_1 & \\cdots & a_{mn}x_n\n",
    "    \\end{pmatrix}\n",
    "    \\end{equation}\n",
    "$$"
   ]
  },
  {
   "cell_type": "code",
   "execution_count": 6,
   "metadata": {},
   "outputs": [
    {
     "name": "stdout",
     "output_type": "stream",
     "text": [
      "[149831, 74869, 116969, 165913, 156461, 159959, 129066, 190540, 83658, 199505]\n"
     ]
    }
   ],
   "source": [
    "# your code (numpy: https://docs.scipy.org/doc/numpy/reference/generated/numpy.dot.html)\n",
    "print(matrix_vector_mul(mat_a, vec_a))\n"
   ]
  },
  {
   "cell_type": "markdown",
   "metadata": {},
   "source": [
    "## Transponente einer Matrix (1 Punkte)\n",
    "\n",
    "Manipulieren Sie die Matrix A, sodass die Transponente entsteht, siehe:\n",
    "    \n",
    "$$\n",
    "    \\begin{equation}\n",
    "    A\n",
    "    = \n",
    "    \\begin{pmatrix}\n",
    "    a_{11}  &\\cdots & a_{1n} \\\\ \n",
    "    \\vdots & \\ddots & \\vdots \\\\ \n",
    "    a_{m1} & \\cdots & a_{mn}\n",
    "    \\end{pmatrix}\n",
    "    \\end{equation}\n",
    "$$   \n",
    "$$\n",
    "    \\begin{equation}\n",
    "    A^T\n",
    "    = \n",
    "    \\begin{pmatrix}\n",
    "    a_{11}  &\\cdots & a_{m1} \\\\ \n",
    "    \\vdots & \\ddots & \\vdots \\\\ \n",
    "    a_{1n} & \\cdots & a_{mn}\n",
    "    \\end{pmatrix}\n",
    "    \\end{equation}\n",
    "$$   "
   ]
  },
  {
   "cell_type": "code",
   "execution_count": 7,
   "metadata": {
    "scrolled": true
   },
   "outputs": [
    {
     "name": "stdout",
     "output_type": "stream",
     "text": [
      "[[178, 182, 74, 195, 233, 210, 229, 42, 35, 40], [57, 81, 147, 98, 105, 24, 2, 16, 8, 58], [255, 82, 94, 9, 213, 70, 224, 89, 118, 2], [40, 16, 16, 221, 130, 194, 198, 186, 161, 147], [237, 220, 69, 1, 217, 76, 219, 157, 90, 112], [101, 227, 47, 210, 128, 158, 201, 35, 65, 254], [122, 196, 104, 0, 4, 240, 176, 85, 121, 3], [145, 214, 42, 223, 9, 250, 219, 33, 255, 65], [12, 33, 25, 175, 37, 83, 212, 9, 55, 192], [219, 235, 37, 227, 108, 198, 130, 201, 30, 170]]\n",
      "[[178, 57, 255, 40, 237, 101, 122, 145, 12, 219], [182, 81, 82, 16, 220, 227, 196, 214, 33, 235], [74, 147, 94, 16, 69, 47, 104, 42, 25, 37], [195, 98, 9, 221, 1, 210, 0, 223, 175, 227], [233, 105, 213, 130, 217, 128, 4, 9, 37, 108], [210, 24, 70, 194, 76, 158, 240, 250, 83, 198], [229, 2, 224, 198, 219, 201, 176, 219, 212, 130], [42, 16, 89, 186, 157, 35, 85, 33, 9, 201], [35, 8, 118, 161, 90, 65, 121, 255, 55, 30], [40, 58, 2, 147, 112, 254, 3, 65, 192, 170]]\n"
     ]
    }
   ],
   "source": [
    "# your code (https://docs.scipy.org/doc/numpy-1.13.0/reference/generated/numpy.transpose.html)\n",
    "\n",
    "print(mat_a)\n",
    "print(matrix_transpose(mat_a))"
   ]
  }
 ],
 "metadata": {
  "anaconda-cloud": {},
  "kernelspec": {
   "display_name": "Python 3",
   "language": "python",
   "name": "python3"
  },
  "language_info": {
   "codemirror_mode": {
    "name": "ipython",
    "version": 3
   },
   "file_extension": ".py",
   "mimetype": "text/x-python",
   "name": "python",
   "nbconvert_exporter": "python",
   "pygments_lexer": "ipython3",
   "version": "3.5.2"
  }
 },
 "nbformat": 4,
 "nbformat_minor": 2
}
