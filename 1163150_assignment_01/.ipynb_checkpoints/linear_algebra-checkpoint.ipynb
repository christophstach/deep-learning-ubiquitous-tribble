{
 "cells": [
  {
   "cell_type": "markdown",
   "metadata": {},
   "source": [
    "# Übung Lineare Algebra (10 Punkte)\n",
    "\n",
    "Diese kleine Übung soll die Implementierung von grundlegenden arithmetischen Opertationen auf Vektoren und Matrizen wiederholen. \n",
    "\n",
    "Bitte implementieren Sie die notwendigen Methoden in der Datei **ak1163051/lineare_algebra.py** auf Basis des Datentyps **Liste** und verifizieren Sie ihre eigene Implementierungen mit der entsprechenden Operation aus dem Numpy-Modul in diesem Notebook, falls möglich. Ein Beispiel ist mit Addition und Subtraktion der Vektoren $\\vec{a}$ und $\\vec{b}$ gegeben.\n"
   ]
  },
  {
   "cell_type": "code",
   "execution_count": 1,
   "metadata": {
    "collapsed": false
   },
   "outputs": [
    {
     "ename": "ImportError",
     "evalue": "DLL load failed: Das Betriebssystem kann %1 nicht ausführen.",
     "output_type": "error",
     "traceback": [
      "\u001b[0;31m---------------------------------------------------------------------------\u001b[0m",
      "\u001b[0;31mImportError\u001b[0m                               Traceback (most recent call last)",
      "\u001b[0;32m<ipython-input-1-1fbf891b272a>\u001b[0m in \u001b[0;36m<module>\u001b[0;34m()\u001b[0m\n\u001b[1;32m      1\u001b[0m \u001b[1;31m# Initialization of basic modules and global parameters...\u001b[0m\u001b[1;33m\u001b[0m\u001b[1;33m\u001b[0m\u001b[0m\n\u001b[1;32m      2\u001b[0m \u001b[1;32mfrom\u001b[0m \u001b[0mlineare_algebra\u001b[0m \u001b[1;32mimport\u001b[0m \u001b[1;33m*\u001b[0m\u001b[1;33m\u001b[0m\u001b[0m\n\u001b[0;32m----> 3\u001b[0;31m \u001b[1;32mimport\u001b[0m \u001b[0mnumpy\u001b[0m \u001b[1;32mas\u001b[0m \u001b[0mnp\u001b[0m\u001b[1;33m\u001b[0m\u001b[0m\n\u001b[0m\u001b[1;32m      4\u001b[0m \u001b[1;32mimport\u001b[0m \u001b[0mrandom\u001b[0m\u001b[1;33m\u001b[0m\u001b[0m\n\u001b[1;32m      5\u001b[0m \u001b[1;33m\u001b[0m\u001b[0m\n",
      "\u001b[0;32mC:\\Program Files\\Anaconda3\\lib\\site-packages\\numpy\\__init__.py\u001b[0m in \u001b[0;36m<module>\u001b[0;34m()\u001b[0m\n\u001b[1;32m    140\u001b[0m         \u001b[1;32mreturn\u001b[0m \u001b[0mloader\u001b[0m\u001b[1;33m(\u001b[0m\u001b[1;33m*\u001b[0m\u001b[0mpackages\u001b[0m\u001b[1;33m,\u001b[0m \u001b[1;33m**\u001b[0m\u001b[0moptions\u001b[0m\u001b[1;33m)\u001b[0m\u001b[1;33m\u001b[0m\u001b[0m\n\u001b[1;32m    141\u001b[0m \u001b[1;33m\u001b[0m\u001b[0m\n\u001b[0;32m--> 142\u001b[0;31m     \u001b[1;32mfrom\u001b[0m \u001b[1;33m.\u001b[0m \u001b[1;32mimport\u001b[0m \u001b[0madd_newdocs\u001b[0m\u001b[1;33m\u001b[0m\u001b[0m\n\u001b[0m\u001b[1;32m    143\u001b[0m     __all__ = ['add_newdocs',\n\u001b[1;32m    144\u001b[0m                \u001b[1;34m'ModuleDeprecationWarning'\u001b[0m\u001b[1;33m,\u001b[0m\u001b[1;33m\u001b[0m\u001b[0m\n",
      "\u001b[0;32mC:\\Program Files\\Anaconda3\\lib\\site-packages\\numpy\\add_newdocs.py\u001b[0m in \u001b[0;36m<module>\u001b[0;34m()\u001b[0m\n\u001b[1;32m     11\u001b[0m \u001b[1;32mfrom\u001b[0m \u001b[0m__future__\u001b[0m \u001b[1;32mimport\u001b[0m \u001b[0mdivision\u001b[0m\u001b[1;33m,\u001b[0m \u001b[0mabsolute_import\u001b[0m\u001b[1;33m,\u001b[0m \u001b[0mprint_function\u001b[0m\u001b[1;33m\u001b[0m\u001b[0m\n\u001b[1;32m     12\u001b[0m \u001b[1;33m\u001b[0m\u001b[0m\n\u001b[0;32m---> 13\u001b[0;31m \u001b[1;32mfrom\u001b[0m \u001b[0mnumpy\u001b[0m\u001b[1;33m.\u001b[0m\u001b[0mlib\u001b[0m \u001b[1;32mimport\u001b[0m \u001b[0madd_newdoc\u001b[0m\u001b[1;33m\u001b[0m\u001b[0m\n\u001b[0m\u001b[1;32m     14\u001b[0m \u001b[1;33m\u001b[0m\u001b[0m\n\u001b[1;32m     15\u001b[0m \u001b[1;31m###############################################################################\u001b[0m\u001b[1;33m\u001b[0m\u001b[1;33m\u001b[0m\u001b[0m\n",
      "\u001b[0;32mC:\\Program Files\\Anaconda3\\lib\\site-packages\\numpy\\lib\\__init__.py\u001b[0m in \u001b[0;36m<module>\u001b[0;34m()\u001b[0m\n\u001b[1;32m      6\u001b[0m \u001b[1;32mfrom\u001b[0m \u001b[0mnumpy\u001b[0m\u001b[1;33m.\u001b[0m\u001b[0mversion\u001b[0m \u001b[1;32mimport\u001b[0m \u001b[0mversion\u001b[0m \u001b[1;32mas\u001b[0m \u001b[0m__version__\u001b[0m\u001b[1;33m\u001b[0m\u001b[0m\n\u001b[1;32m      7\u001b[0m \u001b[1;33m\u001b[0m\u001b[0m\n\u001b[0;32m----> 8\u001b[0;31m \u001b[1;32mfrom\u001b[0m \u001b[1;33m.\u001b[0m\u001b[0mtype_check\u001b[0m \u001b[1;32mimport\u001b[0m \u001b[1;33m*\u001b[0m\u001b[1;33m\u001b[0m\u001b[0m\n\u001b[0m\u001b[1;32m      9\u001b[0m \u001b[1;32mfrom\u001b[0m \u001b[1;33m.\u001b[0m\u001b[0mindex_tricks\u001b[0m \u001b[1;32mimport\u001b[0m \u001b[1;33m*\u001b[0m\u001b[1;33m\u001b[0m\u001b[0m\n\u001b[1;32m     10\u001b[0m \u001b[1;32mfrom\u001b[0m \u001b[1;33m.\u001b[0m\u001b[0mfunction_base\u001b[0m \u001b[1;32mimport\u001b[0m \u001b[1;33m*\u001b[0m\u001b[1;33m\u001b[0m\u001b[0m\n",
      "\u001b[0;32mC:\\Program Files\\Anaconda3\\lib\\site-packages\\numpy\\lib\\type_check.py\u001b[0m in \u001b[0;36m<module>\u001b[0;34m()\u001b[0m\n\u001b[1;32m      9\u001b[0m            'common_type']\n\u001b[1;32m     10\u001b[0m \u001b[1;33m\u001b[0m\u001b[0m\n\u001b[0;32m---> 11\u001b[0;31m \u001b[1;32mimport\u001b[0m \u001b[0mnumpy\u001b[0m\u001b[1;33m.\u001b[0m\u001b[0mcore\u001b[0m\u001b[1;33m.\u001b[0m\u001b[0mnumeric\u001b[0m \u001b[1;32mas\u001b[0m \u001b[0m_nx\u001b[0m\u001b[1;33m\u001b[0m\u001b[0m\n\u001b[0m\u001b[1;32m     12\u001b[0m \u001b[1;32mfrom\u001b[0m \u001b[0mnumpy\u001b[0m\u001b[1;33m.\u001b[0m\u001b[0mcore\u001b[0m\u001b[1;33m.\u001b[0m\u001b[0mnumeric\u001b[0m \u001b[1;32mimport\u001b[0m \u001b[0masarray\u001b[0m\u001b[1;33m,\u001b[0m \u001b[0masanyarray\u001b[0m\u001b[1;33m,\u001b[0m \u001b[0marray\u001b[0m\u001b[1;33m,\u001b[0m \u001b[0misnan\u001b[0m\u001b[1;33m,\u001b[0m\u001b[0;31m \u001b[0m\u001b[0;31m\\\u001b[0m\u001b[1;33m\u001b[0m\u001b[0m\n\u001b[1;32m     13\u001b[0m                 \u001b[0mobj2sctype\u001b[0m\u001b[1;33m,\u001b[0m \u001b[0mzeros\u001b[0m\u001b[1;33m\u001b[0m\u001b[0m\n",
      "\u001b[0;32mC:\\Program Files\\Anaconda3\\lib\\site-packages\\numpy\\core\\__init__.py\u001b[0m in \u001b[0;36m<module>\u001b[0;34m()\u001b[0m\n\u001b[1;32m     12\u001b[0m         \u001b[0mos\u001b[0m\u001b[1;33m.\u001b[0m\u001b[0menviron\u001b[0m\u001b[1;33m[\u001b[0m\u001b[0menvkey\u001b[0m\u001b[1;33m]\u001b[0m \u001b[1;33m=\u001b[0m \u001b[1;34m'1'\u001b[0m\u001b[1;33m\u001b[0m\u001b[0m\n\u001b[1;32m     13\u001b[0m         \u001b[0menv_added\u001b[0m\u001b[1;33m.\u001b[0m\u001b[0mappend\u001b[0m\u001b[1;33m(\u001b[0m\u001b[0menvkey\u001b[0m\u001b[1;33m)\u001b[0m\u001b[1;33m\u001b[0m\u001b[0m\n\u001b[0;32m---> 14\u001b[0;31m \u001b[1;32mfrom\u001b[0m \u001b[1;33m.\u001b[0m \u001b[1;32mimport\u001b[0m \u001b[0mmultiarray\u001b[0m\u001b[1;33m\u001b[0m\u001b[0m\n\u001b[0m\u001b[1;32m     15\u001b[0m \u001b[1;32mfor\u001b[0m \u001b[0menvkey\u001b[0m \u001b[1;32min\u001b[0m \u001b[0menv_added\u001b[0m\u001b[1;33m:\u001b[0m\u001b[1;33m\u001b[0m\u001b[0m\n\u001b[1;32m     16\u001b[0m     \u001b[1;32mdel\u001b[0m \u001b[0mos\u001b[0m\u001b[1;33m.\u001b[0m\u001b[0menviron\u001b[0m\u001b[1;33m[\u001b[0m\u001b[0menvkey\u001b[0m\u001b[1;33m]\u001b[0m\u001b[1;33m\u001b[0m\u001b[0m\n",
      "\u001b[0;31mImportError\u001b[0m: DLL load failed: Das Betriebssystem kann %1 nicht ausführen."
     ]
    }
   ],
   "source": [
    "# Initialization of basic modules and global parameters... \n",
    "from lineare_algebra import * \n",
    "import numpy as np\n",
    "import random\n",
    "\n",
    "# create vectors a and b with 10 digits between 0-255\n",
    "vec_a = random.sample(range(255), 10)\n",
    "vec_b = random.sample(range(255), 10)\n",
    "\n",
    "print (\"Vektor a: \", vec_a)\n",
    "print (\"Vektor b: \", vec_b)"
   ]
  },
  {
   "cell_type": "markdown",
   "metadata": {},
   "source": [
    "## Addition und Subtraktion von Vektoren\n",
    "\n",
    "Berechnen Sie Betrag und Differenz von Vektoren nach folgendem Prinzip:\n",
    "\n",
    "$$\n",
    "\\begin{equation}\n",
    "    \\vec{a} + \\vec{b} \n",
    "    = \n",
    "    \\begin{pmatrix}\n",
    "    a_1\\\\ \n",
    "    a_2\\\\ \n",
    "    a_3\n",
    "    \\end{pmatrix} \n",
    "    +\n",
    "    \\begin{pmatrix}\n",
    "    b_1\\\\ \n",
    "    b_2\\\\ \n",
    "    b_3\n",
    "    \\end{pmatrix}\n",
    "    =\n",
    "    \\begin{pmatrix}\n",
    "    a_1 + b_1\\\\ \n",
    "    a_2 + b_2\\\\ \n",
    "    a_3 + b_3\n",
    "    \\end{pmatrix}\n",
    "\\end{equation}\n",
    "$$\n",
    "$$\n",
    "\\begin{equation}\n",
    "    \\vec{a} - \\vec{b} \n",
    "    = \n",
    "    \\begin{pmatrix}\n",
    "    a_1\\\\ \n",
    "    a_2\\\\ \n",
    "    a_3\n",
    "    \\end{pmatrix} \n",
    "    -\n",
    "    \\begin{pmatrix}\n",
    "    b_1\\\\ \n",
    "    b_2\\\\ \n",
    "    b_3\n",
    "    \\end{pmatrix}\n",
    "    =\n",
    "    \\begin{pmatrix}\n",
    "    a_1 - b_1\\\\ \n",
    "    a_2 - b_2\\\\ \n",
    "    a_3 - b_3\n",
    "    \\end{pmatrix}\n",
    "\\end{equation}\n",
    "$$\n"
   ]
  },
  {
   "cell_type": "code",
   "execution_count": null,
   "metadata": {
    "collapsed": false
   },
   "outputs": [],
   "source": [
    "# Addition\n",
    "add_result = vector_add(vec_a,vec_b)\n",
    "print (\"Result of vector addition:\", add_result)\n",
    "print (\"Are the operations arithmetically equal?\", np.array_equal(add_result, np.add(vec_a,vec_b)))\n",
    "\n",
    "# Subtraction - please implement the methode in lineare_algebra.py \n",
    "sub_result = vector_sub(vec_a,vec_b)\n",
    "print (\"Result of vector subtraction:\", sub_result)\n",
    "print (\"Are the operations arithmetically equal?\", np.array_equal(sub_result, np.subtract(vec_a,vec_b)))"
   ]
  },
  {
   "cell_type": "markdown",
   "metadata": {},
   "source": [
    "## Multiplikation von Vektoren mit einem Skalar (0,5 Punkt)\n",
    "\n",
    "Berechenen Sie die Multiplikation von einem Skalar und einem Vektoren nach folgendem Prinzip:\n",
    "\n",
    "$$\n",
    "\\begin{equation}\n",
    "    r * \\vec{a}\n",
    "    = \n",
    "    r\n",
    "    \\begin{pmatrix}\n",
    "    a_1\\\\ \n",
    "    a_2\\\\ \n",
    "    a_3\n",
    "    \\end{pmatrix} \n",
    "    =\n",
    "    \\begin{pmatrix}\n",
    "    ra_1\\\\ \n",
    "    ra_2\\\\ \n",
    "    ra_3\n",
    "    \\end{pmatrix}\n",
    "\\end{equation}\n",
    "$$"
   ]
  },
  {
   "cell_type": "code",
   "execution_count": null,
   "metadata": {
    "collapsed": false
   },
   "outputs": [],
   "source": [
    "# your code\n",
    "r = 5\n",
    "\n",
    "print(\"Vector Scalar Mult\", vector_scalar_mul(r, vec_a))    \n",
    "    "
   ]
  },
  {
   "cell_type": "markdown",
   "metadata": {},
   "source": [
    "## Skalarprodukt (dot product) von Vektoren (1 Punkte)\n",
    "\n",
    "Berechnen Sie das Skalarprodukt von zwei Vektoren nach folgendem Prinzip:\n",
    "\n",
    "$$\n",
    "\\begin{equation}\n",
    "    \\vec{a} * \\vec{b} \n",
    "    = \n",
    "    \\begin{pmatrix}\n",
    "    a_1\\\\ \n",
    "    a_2\\\\ \n",
    "    a_3\n",
    "    \\end{pmatrix} \n",
    "    *\n",
    "    \\begin{pmatrix}\n",
    "    b_1\\\\ \n",
    "    b_2\\\\ \n",
    "    b_3\n",
    "    \\end{pmatrix}\n",
    "    =\n",
    "    a_1 * b_1 + a_2 * b_2 + a_3 * b_3\n",
    "\\end{equation}\n",
    "$$"
   ]
  },
  {
   "cell_type": "code",
   "execution_count": null,
   "metadata": {
    "collapsed": false
   },
   "outputs": [],
   "source": [
    "# your code (numpy: https://docs.scipy.org/doc/numpy/reference/generated/numpy.dot.html)\n",
    "print(\"Skalar produkt, \", vector_dot(vec_a, vec_b))"
   ]
  },
  {
   "cell_type": "markdown",
   "metadata": {},
   "source": [
    "## Erzeugen einer Matrize (1 Punkte)\n",
    "\n",
    "Erzeugen Sie mit Hilfe einer Methode eine Matrize mit der Dimension 10x10 von Zufallswerten zwischen 0 und 255."
   ]
  },
  {
   "cell_type": "code",
   "execution_count": null,
   "metadata": {
    "collapsed": false
   },
   "outputs": [],
   "source": [
    "mat_a = create_random_matrix(10,10)\n",
    "print (\"Matrix A: \", mat_a)"
   ]
  },
  {
   "cell_type": "markdown",
   "metadata": {},
   "source": [
    "## Vektor-Matrix-Multiplikation (1 Punkte)\n",
    "\n",
    "Berechnen Sie das Produkt aus Vektor a und Matrix A nach folgendem Prinzip:\n",
    "$$\n",
    "    \\begin{equation}\n",
    "    A*\\vec{x} \n",
    "    = \n",
    "    \\begin{pmatrix}\n",
    "    a_{11}  &\\cdots & a_{1n} \\\\ \n",
    "    \\vdots & \\ddots & \\vdots \\\\ \n",
    "    a_{m1} & \\cdots & a_{mn}\n",
    "    \\end{pmatrix}\n",
    "    *\n",
    "    \\begin{pmatrix}\n",
    "    x_{1} \\\\ \n",
    "    \\vdots \\\\ \n",
    "    x_{n} \n",
    "    \\end{pmatrix}\n",
    "    =\n",
    "    \\begin{pmatrix}\n",
    "    a_{11}x_1  &\\cdots & a_{1n}x_n \\\\ \n",
    "     & \\vdots &  \\\\ \n",
    "    a_{m1}x_1 & \\cdots & a_{mn}x_n\n",
    "    \\end{pmatrix}\n",
    "    \\end{equation}\n",
    "$$"
   ]
  },
  {
   "cell_type": "code",
   "execution_count": null,
   "metadata": {
    "collapsed": false
   },
   "outputs": [],
   "source": [
    "# your code (numpy: https://docs.scipy.org/doc/numpy/reference/generated/numpy.dot.html)\n",
    "print(matrix_vector_mul(mat_a, vec_a))\n"
   ]
  },
  {
   "cell_type": "markdown",
   "metadata": {},
   "source": [
    "## Transponente einer Matrix (1 Punkte)\n",
    "\n",
    "Manipulieren Sie die Matrix A, sodass die Transponente entsteht, siehe:\n",
    "    \n",
    "$$\n",
    "    \\begin{equation}\n",
    "    A\n",
    "    = \n",
    "    \\begin{pmatrix}\n",
    "    a_{11}  &\\cdots & a_{1n} \\\\ \n",
    "    \\vdots & \\ddots & \\vdots \\\\ \n",
    "    a_{m1} & \\cdots & a_{mn}\n",
    "    \\end{pmatrix}\n",
    "    \\end{equation}\n",
    "$$   \n",
    "$$\n",
    "    \\begin{equation}\n",
    "    A^T\n",
    "    = \n",
    "    \\begin{pmatrix}\n",
    "    a_{11}  &\\cdots & a_{m1} \\\\ \n",
    "    \\vdots & \\ddots & \\vdots \\\\ \n",
    "    a_{1n} & \\cdots & a_{mn}\n",
    "    \\end{pmatrix}\n",
    "    \\end{equation}\n",
    "$$   "
   ]
  },
  {
   "cell_type": "code",
   "execution_count": 2,
   "metadata": {
    "collapsed": false
   },
   "outputs": [
    {
     "ename": "NameError",
     "evalue": "name 'mat_a' is not defined",
     "output_type": "error",
     "traceback": [
      "\u001b[0;31m---------------------------------------------------------------------------\u001b[0m",
      "\u001b[0;31mNameError\u001b[0m                                 Traceback (most recent call last)",
      "\u001b[0;32m<ipython-input-2-aa8a72d078cb>\u001b[0m in \u001b[0;36m<module>\u001b[0;34m()\u001b[0m\n\u001b[1;32m      1\u001b[0m \u001b[1;31m# your code (https://docs.scipy.org/doc/numpy-1.13.0/reference/generated/numpy.transpose.html)\u001b[0m\u001b[1;33m\u001b[0m\u001b[1;33m\u001b[0m\u001b[0m\n\u001b[0;32m----> 2\u001b[0;31m \u001b[0mprint\u001b[0m\u001b[1;33m(\u001b[0m\u001b[0mmat_a\u001b[0m\u001b[1;33m)\u001b[0m\u001b[1;33m\u001b[0m\u001b[0m\n\u001b[0m\u001b[1;32m      3\u001b[0m \u001b[0mprint\u001b[0m\u001b[1;33m(\u001b[0m\u001b[0mmatrix_transpose\u001b[0m\u001b[1;33m(\u001b[0m\u001b[0mmat_a\u001b[0m\u001b[1;33m)\u001b[0m\u001b[1;33m)\u001b[0m\u001b[1;33m\u001b[0m\u001b[0m\n",
      "\u001b[0;31mNameError\u001b[0m: name 'mat_a' is not defined"
     ]
    }
   ],
   "source": [
    "# your code (https://docs.scipy.org/doc/numpy-1.13.0/reference/generated/numpy.transpose.html)\n",
    "print(mat_a)\n",
    "print(matrix_transpose(mat_a))\n"
   ]
  },
  {
   "cell_type": "code",
   "execution_count": null,
   "metadata": {
    "collapsed": true
   },
   "outputs": [],
   "source": []
  }
 ],
 "metadata": {
  "anaconda-cloud": {},
  "kernelspec": {
   "display_name": "Python 3",
   "language": "python",
   "name": "python3"
  },
  "language_info": {
   "codemirror_mode": {
    "name": "ipython",
    "version": 3
   },
   "file_extension": ".py",
   "mimetype": "text/x-python",
   "name": "python",
   "nbconvert_exporter": "python",
   "pygments_lexer": "ipython3",
   "version": "3.6.0"
  }
 },
 "nbformat": 4,
 "nbformat_minor": 2
}
